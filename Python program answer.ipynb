{
 "cells": [
  {
   "cell_type": "markdown",
   "id": "b9edc84e",
   "metadata": {},
   "source": [
    "11  answer"
   ]
  },
  {
   "cell_type": "code",
   "execution_count": 8,
   "id": "e84873c1",
   "metadata": {},
   "outputs": [
    {
     "ename": "SyntaxError",
     "evalue": "invalid syntax (Temp/ipykernel_10040/505972617.py, line 11)",
     "output_type": "error",
     "traceback": [
      "\u001b[1;36m  File \u001b[1;32m\"C:\\Users\\user3\\AppData\\Local\\Temp/ipykernel_10040/505972617.py\"\u001b[1;36m, line \u001b[1;32m11\u001b[0m\n\u001b[1;33m    elif n==0\u001b[0m\n\u001b[1;37m             ^\u001b[0m\n\u001b[1;31mSyntaxError\u001b[0m\u001b[1;31m:\u001b[0m invalid syntax\n"
     ]
    }
   ],
   "source": [
    "n=int(input(\"enter the number to find the factorial\"))\n",
    "def fact(n):\n",
    "    \n",
    "    if n==1 :\n",
    "        return 1\n",
    "    else :\n",
    "        return n*fact(n-1)\n",
    "    \n",
    "if n<0 :\n",
    "    print(\" number is negative.factorial not possible\")\n",
    "elif n==0\n",
    "    print(\"The factc\n",
    "          orial is \"1)\n",
    "else:\n",
    "     print(\"The factorial is\",fact(n))"
   ]
  },
  {
   "cell_type": "markdown",
   "id": "471ac0db",
   "metadata": {},
   "source": [
    "12 answer"
   ]
  },
  {
   "cell_type": "code",
   "execution_count": 3,
   "id": "9eca7596",
   "metadata": {},
   "outputs": [
    {
     "name": "stdout",
     "output_type": "stream",
     "text": [
      "enter the number20\n",
      "Number is composite\n"
     ]
    }
   ],
   "source": [
    "n=int(input('enter the number'))\n",
    "if n==0 or n==1:\n",
    "    print(\"neither prime nor composite\")\n",
    "else:\n",
    "    k=[]\n",
    "    for i in range(1,n):\n",
    "        if n%i==0:\n",
    "            k.append(i)\n",
    "    if len(k)<=2:\n",
    "        print(\"Number is prime\")\n",
    "        \n",
    "    else :\n",
    "        print(\"Number is composite\") "
   ]
  },
  {
   "cell_type": "markdown",
   "id": "849a524d",
   "metadata": {},
   "source": [
    "13 answer"
   ]
  },
  {
   "cell_type": "code",
   "execution_count": 4,
   "id": "7ae187c8",
   "metadata": {},
   "outputs": [
    {
     "name": "stdout",
     "output_type": "stream",
     "text": [
      "Enter the string34\n",
      "the string is not palindrome\n"
     ]
    }
   ],
   "source": [
    "string=input(\"Enter the string\")\n",
    "rev_string=\"\"\n",
    "for i in range(1,len(string)+1):\n",
    "    rev_string=rev_string+string.lower()[-i]\n",
    "if rev_string==string:\n",
    "    print(\"the string is palindrome\")\n",
    "else :\n",
    "    print(\"the string is not palindrome\")"
   ]
  },
  {
   "cell_type": "markdown",
   "id": "03a9beab",
   "metadata": {},
   "source": [
    "14  answewr"
   ]
  },
  {
   "cell_type": "code",
   "execution_count": 11,
   "id": "2cb5c072",
   "metadata": {},
   "outputs": [
    {
     "name": "stdout",
     "output_type": "stream",
     "text": [
      "base of the right angled triangle19\n",
      "perpendicular of the right angled triangle21\n",
      "the length of hypotenuse is  28.319604517012593\n"
     ]
    }
   ],
   "source": [
    "import math\n",
    "a=int(input(\"base of the right angled triangle\"))\n",
    "b=int(input(\"perpendicular of the right angled triangle\"))\n",
    "print(\"the length of hypotenuse is \",math.sqrt(a**2+b**2))"
   ]
  },
  {
   "cell_type": "markdown",
   "id": "957e7e09",
   "metadata": {},
   "source": [
    "15"
   ]
  },
  {
   "cell_type": "code",
   "execution_count": 10,
   "id": "b6f74d75",
   "metadata": {},
   "outputs": [
    {
     "name": "stdout",
     "output_type": "stream",
     "text": [
      "Enter the string80\n",
      " The frequencies  {'8': 1, '0': 1}\n"
     ]
    }
   ],
   "source": [
    "string=input(\"Enter the string\")\n",
    "freq=dict()\n",
    "for i in string :\n",
    "    if i in freq.keys():\n",
    "        freq[i]=freq[i]+1\n",
    "    else :\n",
    "        freq[i]=1\n",
    "print(\" The frequencies \", freq)"
   ]
  },
  {
   "cell_type": "code",
   "execution_count": null,
   "id": "fd10865a",
   "metadata": {},
   "outputs": [],
   "source": []
  }
 ],
 "metadata": {
  "kernelspec": {
   "display_name": "Python 3 (ipykernel)",
   "language": "python",
   "name": "python3"
  },
  "language_info": {
   "codemirror_mode": {
    "name": "ipython",
    "version": 3
   },
   "file_extension": ".py",
   "mimetype": "text/x-python",
   "name": "python",
   "nbconvert_exporter": "python",
   "pygments_lexer": "ipython3",
   "version": "3.9.7"
  }
 },
 "nbformat": 4,
 "nbformat_minor": 5
}
