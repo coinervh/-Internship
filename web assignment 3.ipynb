{
 "cells": [
  {
   "cell_type": "code",
   "execution_count": 1,
   "id": "bbc7b072",
   "metadata": {},
   "outputs": [],
   "source": [
    "import selenium\n",
    "import pandas as pd\n",
    "from selenium import webdriver\n",
    "import warnings\n",
    "warnings.filterwarnings('ignore')\n",
    "from selenium.common.exceptions import StaleElementReferenceException, NoSuchElementException\n",
    "from selenium.webdriver.common.by import By\n",
    "import time"
   ]
  },
  {
   "cell_type": "markdown",
   "id": "39da069c",
   "metadata": {},
   "source": [
    "1.Write a python program which searches all the product under a particular product from www.amazon.in. \n",
    "The product to be searched will be taken as input from user. For e.g. If user input is ‘guitar’. Then search \n",
    "for guitars"
   ]
  },
  {
   "cell_type": "code",
   "execution_count": 2,
   "id": "3ddb4649",
   "metadata": {},
   "outputs": [],
   "source": [
    "\n",
    "driver=webdriver.Chrome(r\"C:\\Users\\user3\\Downloads\\chromedriver_win32\\chromedriver.exe\")"
   ]
  },
  {
   "cell_type": "code",
   "execution_count": 3,
   "id": "c8e4236c",
   "metadata": {},
   "outputs": [],
   "source": [
    "\n",
    "driver.get(\"https://www.amazon.in/s?k=sunglasses&crid=X355KKS47A75&sprefix=sunglasses%2Caps%2C568&ref=nb_sb_noss_1\")"
   ]
  },
  {
   "cell_type": "code",
   "execution_count": 4,
   "id": "5be169e4",
   "metadata": {},
   "outputs": [],
   "source": [
    "product=driver.find_element(By.XPATH,\"/html/body/div[1]/header/div/div[1]/div[2]/div/form/div[2]/div[1]/input\")\n",
    "product.click()"
   ]
  },
  {
   "cell_type": "code",
   "execution_count": 37,
   "id": "d90db070",
   "metadata": {},
   "outputs": [],
   "source": [
    "brands=[]\n",
    "product_name=[]\n",
    "price=[]\n",
    "exchange=[]\n",
    "availability=[]"
   ]
  },
  {
   "cell_type": "code",
   "execution_count": 40,
   "id": "285350b8",
   "metadata": {},
   "outputs": [],
   "source": [
    "brand_tags=driver.find_elements(By.XPATH,'//span[@class=\"a-size-base-plus a-color-base\"]')\n",
    "for i in brand_tags[0:12]:\n",
    "    brand=i.text\n",
    "    brands.append(brand)\n",
    "    \n",
    "    \n",
    "description_tags=driver.find_elements(By.XPATH,'//span[@class=\"a-size-base-plus a-color-base a-text-normal\"]')\n",
    "for i in description_tags[0:12]:\n",
    "    description=i.text\n",
    "    product_name.append(description)  \n",
    "    \n",
    "    \n",
    "rate_tags=driver.find_elements(By.XPATH,'//span[@class=\"a-price-whole\"]')\n",
    "for i in rate_tags[0:12]:\n",
    "    rate=i.text\n",
    "    price.append(rate)\n",
    "    \n",
    "deliver_tags=driver.find_elements(By.XPATH,'//a[@class=\"a-link-normal\"]')\n",
    "for i in deliver_tags[0:12]:\n",
    "    deliver=i.text\n",
    "    exchange.append(deliver) \n",
    "    \n",
    "available_tags=driver.find_elements(By.XPATH,'//span[@class=\"a-size-medium a-color-success\"]')\n",
    "for i in brand_tags[0:12]:\n",
    "    available=i.text\n",
    "    availability.append(available)    \n"
   ]
  },
  {
   "cell_type": "code",
   "execution_count": 41,
   "id": "d52517d1",
   "metadata": {},
   "outputs": [
    {
     "name": "stdout",
     "output_type": "stream",
     "text": [
      "24 12 12 12 24\n"
     ]
    }
   ],
   "source": [
    "print(len(brands),len( product_name),len(price),len(exchange),len(availability))"
   ]
  },
  {
   "cell_type": "code",
   "execution_count": 29,
   "id": "62251bc3",
   "metadata": {},
   "outputs": [
    {
     "data": {
      "text/html": [
       "<div>\n",
       "<style scoped>\n",
       "    .dataframe tbody tr th:only-of-type {\n",
       "        vertical-align: middle;\n",
       "    }\n",
       "\n",
       "    .dataframe tbody tr th {\n",
       "        vertical-align: top;\n",
       "    }\n",
       "\n",
       "    .dataframe thead th {\n",
       "        text-align: right;\n",
       "    }\n",
       "</style>\n",
       "<table border=\"1\" class=\"dataframe\">\n",
       "  <thead>\n",
       "    <tr style=\"text-align: right;\">\n",
       "      <th></th>\n",
       "      <th>brands</th>\n",
       "      <th>product_name</th>\n",
       "      <th>price</th>\n",
       "      <th>exchange</th>\n",
       "      <th>availability</th>\n",
       "    </tr>\n",
       "  </thead>\n",
       "  <tbody>\n",
       "    <tr>\n",
       "      <th>0</th>\n",
       "      <td>VINCENT CHASE EYEWEAR</td>\n",
       "      <td>Vincent Chase ATHLEISURE By Lenskart | Full Ri...</td>\n",
       "      <td>1,999</td>\n",
       "      <td></td>\n",
       "      <td>VINCENT CHASE EYEWEAR</td>\n",
       "    </tr>\n",
       "    <tr>\n",
       "      <th>1</th>\n",
       "      <td>VINCENT CHASE EYEWEAR</td>\n",
       "      <td>Vincent Chase By Lenskart | Full Rim Wayfarer ...</td>\n",
       "      <td>1,999</td>\n",
       "      <td></td>\n",
       "      <td>VINCENT CHASE EYEWEAR</td>\n",
       "    </tr>\n",
       "    <tr>\n",
       "      <th>2</th>\n",
       "      <td>VINCENT CHASE EYEWEAR</td>\n",
       "      <td>Vincent Chase By Lenskart | Full Rim Round Bra...</td>\n",
       "      <td>2,500</td>\n",
       "      <td></td>\n",
       "      <td>VINCENT CHASE EYEWEAR</td>\n",
       "    </tr>\n",
       "    <tr>\n",
       "      <th>3</th>\n",
       "      <td>VINCENT CHASE EYEWEAR</td>\n",
       "      <td>Vincent Chase By Lenskart | Full Rim Sports Br...</td>\n",
       "      <td>699</td>\n",
       "      <td></td>\n",
       "      <td>VINCENT CHASE EYEWEAR</td>\n",
       "    </tr>\n",
       "    <tr>\n",
       "      <th>4</th>\n",
       "      <td>Fastrack</td>\n",
       "      <td>Men Square Sunglasses , Black</td>\n",
       "      <td>699</td>\n",
       "      <td></td>\n",
       "      <td>Fastrack</td>\n",
       "    </tr>\n",
       "    <tr>\n",
       "      <th>5</th>\n",
       "      <td>GAINX</td>\n",
       "      <td>Square UV Sunglass for Men &amp; Women | 100% UV P...</td>\n",
       "      <td>799</td>\n",
       "      <td></td>\n",
       "      <td>GAINX</td>\n",
       "    </tr>\n",
       "    <tr>\n",
       "      <th>6</th>\n",
       "      <td>ELEGANTE</td>\n",
       "      <td>Rectanglular Sunglasses for Women Retro Drivin...</td>\n",
       "      <td>999</td>\n",
       "      <td></td>\n",
       "      <td>ELEGANTE</td>\n",
       "    </tr>\n",
       "    <tr>\n",
       "      <th>7</th>\n",
       "      <td>ELEGANTE</td>\n",
       "      <td>Men's Square Sunglasses</td>\n",
       "      <td>449</td>\n",
       "      <td></td>\n",
       "      <td>ELEGANTE</td>\n",
       "    </tr>\n",
       "    <tr>\n",
       "      <th>8</th>\n",
       "      <td>Generic</td>\n",
       "      <td>Izaan Mart Women Retro Driving Rectangular Sun...</td>\n",
       "      <td>349</td>\n",
       "      <td></td>\n",
       "      <td>Generic</td>\n",
       "    </tr>\n",
       "    <tr>\n",
       "      <th>9</th>\n",
       "      <td>VINCENT CHASE EYEWEAR</td>\n",
       "      <td>Vincent Chase By Lenskart | Full Rim Wayfarer ...</td>\n",
       "      <td>343</td>\n",
       "      <td></td>\n",
       "      <td>VINCENT CHASE EYEWEAR</td>\n",
       "    </tr>\n",
       "    <tr>\n",
       "      <th>10</th>\n",
       "      <td>VINCENT CHASE EYEWEAR</td>\n",
       "      <td>Vincent Chase By Lenskart | Full Rim Round Bra...</td>\n",
       "      <td>272</td>\n",
       "      <td></td>\n",
       "      <td>VINCENT CHASE EYEWEAR</td>\n",
       "    </tr>\n",
       "    <tr>\n",
       "      <th>11</th>\n",
       "      <td>Fastrack</td>\n",
       "      <td>Men Square Sunglasses , Green</td>\n",
       "      <td>186</td>\n",
       "      <td></td>\n",
       "      <td>Fastrack</td>\n",
       "    </tr>\n",
       "  </tbody>\n",
       "</table>\n",
       "</div>"
      ],
      "text/plain": [
       "                   brands                                       product_name  \\\n",
       "0   VINCENT CHASE EYEWEAR  Vincent Chase ATHLEISURE By Lenskart | Full Ri...   \n",
       "1   VINCENT CHASE EYEWEAR  Vincent Chase By Lenskart | Full Rim Wayfarer ...   \n",
       "2   VINCENT CHASE EYEWEAR  Vincent Chase By Lenskart | Full Rim Round Bra...   \n",
       "3   VINCENT CHASE EYEWEAR  Vincent Chase By Lenskart | Full Rim Sports Br...   \n",
       "4                Fastrack                      Men Square Sunglasses , Black   \n",
       "5                   GAINX  Square UV Sunglass for Men & Women | 100% UV P...   \n",
       "6                ELEGANTE  Rectanglular Sunglasses for Women Retro Drivin...   \n",
       "7                ELEGANTE                            Men's Square Sunglasses   \n",
       "8                 Generic  Izaan Mart Women Retro Driving Rectangular Sun...   \n",
       "9   VINCENT CHASE EYEWEAR  Vincent Chase By Lenskart | Full Rim Wayfarer ...   \n",
       "10  VINCENT CHASE EYEWEAR  Vincent Chase By Lenskart | Full Rim Round Bra...   \n",
       "11               Fastrack                      Men Square Sunglasses , Green   \n",
       "\n",
       "    price exchange           availability  \n",
       "0   1,999           VINCENT CHASE EYEWEAR  \n",
       "1   1,999           VINCENT CHASE EYEWEAR  \n",
       "2   2,500           VINCENT CHASE EYEWEAR  \n",
       "3     699           VINCENT CHASE EYEWEAR  \n",
       "4     699                        Fastrack  \n",
       "5     799                           GAINX  \n",
       "6     999                        ELEGANTE  \n",
       "7     449                        ELEGANTE  \n",
       "8     349                         Generic  \n",
       "9     343           VINCENT CHASE EYEWEAR  \n",
       "10    272           VINCENT CHASE EYEWEAR  \n",
       "11    186                        Fastrack  "
      ]
     },
     "execution_count": 29,
     "metadata": {},
     "output_type": "execute_result"
    }
   ],
   "source": [
    "df=pd.DataFrame({'brands':brands,'product_name':product_name,'price':price,'exchange':exchange,'availability':availability})\n",
    "df"
   ]
  },
  {
   "cell_type": "code",
   "execution_count": 44,
   "id": "9255d95c",
   "metadata": {},
   "outputs": [],
   "source": [
    "brands=[]\n",
    "product_name=[]\n",
    "price=[]\n",
    "exchange=[]\n",
    "availability=[]"
   ]
  },
  {
   "cell_type": "code",
   "execution_count": 45,
   "id": "ffabe14d",
   "metadata": {},
   "outputs": [],
   "source": [
    "brand_tags=driver.find_elements(By.XPATH,'//span[@class=\"a-size-base-plus a-color-base\"]')\n",
    "for i in brand_tags[0:12]:\n",
    "    brand=i.text\n",
    "    brands.append(brand)\n",
    "    \n",
    "    \n",
    "description_tags=driver.find_elements(By.XPATH,'//span[@class=\"a-size-base-plus a-color-base a-text-normal\"]')\n",
    "for i in description_tags[0:12]:\n",
    "    description=i.text\n",
    "    product_name.append(description)  \n",
    "    \n",
    "    \n",
    "rate_tags=driver.find_elements(By.XPATH,'//span[@class=\"a-price-whole\"]')\n",
    "for i in rate_tags[0:12]:\n",
    "    rate=i.text\n",
    "    price.append(rate)\n",
    "    \n",
    "deliver_tags=driver.find_elements(By.XPATH,'//a[@class=\"a-link-normal\"]')\n",
    "for i in deliver_tags[0:12]:\n",
    "    deliver=i.text\n",
    "    exchange.append(deliver) \n",
    "    \n",
    "available_tags=driver.find_elements(By.XPATH,'//span[@class=\"a-size-medium a-color-success\"]')\n",
    "for i in brand_tags[0:12]:\n",
    "    available=i.text\n",
    "    availability.append(available)"
   ]
  },
  {
   "cell_type": "code",
   "execution_count": 46,
   "id": "f632f8d5",
   "metadata": {},
   "outputs": [
    {
     "name": "stdout",
     "output_type": "stream",
     "text": [
      "12 12 12 12 12\n"
     ]
    }
   ],
   "source": [
    "print(len(brands),len( product_name),len(price),len(exchange),len(availability))"
   ]
  },
  {
   "cell_type": "code",
   "execution_count": 47,
   "id": "c8980666",
   "metadata": {},
   "outputs": [
    {
     "data": {
      "text/html": [
       "<div>\n",
       "<style scoped>\n",
       "    .dataframe tbody tr th:only-of-type {\n",
       "        vertical-align: middle;\n",
       "    }\n",
       "\n",
       "    .dataframe tbody tr th {\n",
       "        vertical-align: top;\n",
       "    }\n",
       "\n",
       "    .dataframe thead th {\n",
       "        text-align: right;\n",
       "    }\n",
       "</style>\n",
       "<table border=\"1\" class=\"dataframe\">\n",
       "  <thead>\n",
       "    <tr style=\"text-align: right;\">\n",
       "      <th></th>\n",
       "      <th>brands</th>\n",
       "      <th>product_name</th>\n",
       "      <th>price</th>\n",
       "      <th>exchange</th>\n",
       "      <th>availability</th>\n",
       "    </tr>\n",
       "  </thead>\n",
       "  <tbody>\n",
       "    <tr>\n",
       "      <th>0</th>\n",
       "      <td>John Jacobs</td>\n",
       "      <td>Gold Brown Full Rim Aviator Branded Polarized ...</td>\n",
       "      <td>1,999</td>\n",
       "      <td></td>\n",
       "      <td>John Jacobs</td>\n",
       "    </tr>\n",
       "    <tr>\n",
       "      <th>1</th>\n",
       "      <td>John Jacobs</td>\n",
       "      <td>| UV Protection Sunglasses For Men &amp; Women | S...</td>\n",
       "      <td>1,999</td>\n",
       "      <td>4Flaunt Rectro Lite Retro Rectangular Vintage ...</td>\n",
       "      <td>John Jacobs</td>\n",
       "    </tr>\n",
       "    <tr>\n",
       "      <th>2</th>\n",
       "      <td>VINCENT CHASE EYEWEAR</td>\n",
       "      <td>Vincent Chase By Lenskart | Full Rim Wayfarer ...</td>\n",
       "      <td>2,500</td>\n",
       "      <td>25</td>\n",
       "      <td>VINCENT CHASE EYEWEAR</td>\n",
       "    </tr>\n",
       "    <tr>\n",
       "      <th>3</th>\n",
       "      <td>VINCENT CHASE EYEWEAR</td>\n",
       "      <td>Vincent Chase ATHLEISURE By Lenskart | Full Ri...</td>\n",
       "      <td>1,999</td>\n",
       "      <td></td>\n",
       "      <td>VINCENT CHASE EYEWEAR</td>\n",
       "    </tr>\n",
       "    <tr>\n",
       "      <th>4</th>\n",
       "      <td>Fastrack</td>\n",
       "      <td>Men Square Sunglasses, Brown</td>\n",
       "      <td>2,499</td>\n",
       "      <td>elegante Rectanglular Sunglasses for Women Ret...</td>\n",
       "      <td>Fastrack</td>\n",
       "    </tr>\n",
       "    <tr>\n",
       "      <th>5</th>\n",
       "      <td>Fastrack</td>\n",
       "      <td>Men Square Sunglass, Transparent, L</td>\n",
       "      <td>699</td>\n",
       "      <td>3,376</td>\n",
       "      <td>Fastrack</td>\n",
       "    </tr>\n",
       "    <tr>\n",
       "      <th>6</th>\n",
       "      <td>ROYAL SON</td>\n",
       "      <td>Women Cat Eye Sunglasses</td>\n",
       "      <td>699</td>\n",
       "      <td></td>\n",
       "      <td>ROYAL SON</td>\n",
       "    </tr>\n",
       "    <tr>\n",
       "      <th>7</th>\n",
       "      <td>Fastrack</td>\n",
       "      <td>Men Classic Sunglasses (Black_66 millimeters_P...</td>\n",
       "      <td>549</td>\n",
       "      <td>Bowiemall® Rectangle Sunglasses for Women Men ...</td>\n",
       "      <td>Fastrack</td>\n",
       "    </tr>\n",
       "    <tr>\n",
       "      <th>8</th>\n",
       "      <td>Fastrack</td>\n",
       "      <td>Men Square Sunglasses , Black</td>\n",
       "      <td>689</td>\n",
       "      <td>2</td>\n",
       "      <td>Fastrack</td>\n",
       "    </tr>\n",
       "    <tr>\n",
       "      <th>9</th>\n",
       "      <td>Dervin</td>\n",
       "      <td>Flat Design Rectangular Sunglasses for Men &amp; W...</td>\n",
       "      <td>524</td>\n",
       "      <td></td>\n",
       "      <td>Dervin</td>\n",
       "    </tr>\n",
       "    <tr>\n",
       "      <th>10</th>\n",
       "      <td>USARMANI</td>\n",
       "      <td>Women Cat Eye sunglasses Black Frame BLACK Len...</td>\n",
       "      <td>874</td>\n",
       "      <td>CREEK Rectanglular Sunglasses for Women Retro ...</td>\n",
       "      <td>USARMANI</td>\n",
       "    </tr>\n",
       "    <tr>\n",
       "      <th>11</th>\n",
       "      <td>EFERMONE</td>\n",
       "      <td>Aviator Polarized Sunglasses with 100% UV Prot...</td>\n",
       "      <td>679</td>\n",
       "      <td>1</td>\n",
       "      <td>EFERMONE</td>\n",
       "    </tr>\n",
       "  </tbody>\n",
       "</table>\n",
       "</div>"
      ],
      "text/plain": [
       "                   brands                                       product_name  \\\n",
       "0             John Jacobs  Gold Brown Full Rim Aviator Branded Polarized ...   \n",
       "1             John Jacobs  | UV Protection Sunglasses For Men & Women | S...   \n",
       "2   VINCENT CHASE EYEWEAR  Vincent Chase By Lenskart | Full Rim Wayfarer ...   \n",
       "3   VINCENT CHASE EYEWEAR  Vincent Chase ATHLEISURE By Lenskart | Full Ri...   \n",
       "4                Fastrack                       Men Square Sunglasses, Brown   \n",
       "5                Fastrack                Men Square Sunglass, Transparent, L   \n",
       "6               ROYAL SON                           Women Cat Eye Sunglasses   \n",
       "7                Fastrack  Men Classic Sunglasses (Black_66 millimeters_P...   \n",
       "8                Fastrack                      Men Square Sunglasses , Black   \n",
       "9                  Dervin  Flat Design Rectangular Sunglasses for Men & W...   \n",
       "10               USARMANI  Women Cat Eye sunglasses Black Frame BLACK Len...   \n",
       "11               EFERMONE  Aviator Polarized Sunglasses with 100% UV Prot...   \n",
       "\n",
       "    price                                           exchange  \\\n",
       "0   1,999                                                      \n",
       "1   1,999  4Flaunt Rectro Lite Retro Rectangular Vintage ...   \n",
       "2   2,500                                                 25   \n",
       "3   1,999                                                      \n",
       "4   2,499  elegante Rectanglular Sunglasses for Women Ret...   \n",
       "5     699                                              3,376   \n",
       "6     699                                                      \n",
       "7     549  Bowiemall® Rectangle Sunglasses for Women Men ...   \n",
       "8     689                                                  2   \n",
       "9     524                                                      \n",
       "10    874  CREEK Rectanglular Sunglasses for Women Retro ...   \n",
       "11    679                                                  1   \n",
       "\n",
       "             availability  \n",
       "0             John Jacobs  \n",
       "1             John Jacobs  \n",
       "2   VINCENT CHASE EYEWEAR  \n",
       "3   VINCENT CHASE EYEWEAR  \n",
       "4                Fastrack  \n",
       "5                Fastrack  \n",
       "6               ROYAL SON  \n",
       "7                Fastrack  \n",
       "8                Fastrack  \n",
       "9                  Dervin  \n",
       "10               USARMANI  \n",
       "11               EFERMONE  "
      ]
     },
     "execution_count": 47,
     "metadata": {},
     "output_type": "execute_result"
    }
   ],
   "source": [
    "df=pd.DataFrame({'brands':brands,'product_name':product_name,'price':price,'exchange':exchange,'availability':availability})\n",
    "df\n"
   ]
  },
  {
   "cell_type": "markdown",
   "id": "6ecaa16f",
   "metadata": {},
   "source": [
    "3. Write a python program to access the search bar and search button on images.google.com and scrape 10\n",
    "images each for keywords ‘fruits’, ‘cars’ and ‘Machine Learning’, ‘Guitar’, ‘Cakes’."
   ]
  },
  {
   "cell_type": "code",
   "execution_count": 6,
   "id": "e6db41e0",
   "metadata": {},
   "outputs": [],
   "source": [
    "driver=webdriver.Chrome(r\"C:\\Users\\user3\\Downloads\\chromedriver_win32\\chromedriver.exe\")\n"
   ]
  },
  {
   "cell_type": "code",
   "execution_count": 7,
   "id": "21acbadc",
   "metadata": {},
   "outputs": [],
   "source": [
    "driver.get(\"https://images.google.com/\")"
   ]
  },
  {
   "cell_type": "code",
   "execution_count": 8,
   "id": "b95918c7",
   "metadata": {},
   "outputs": [],
   "source": [
    "driver.get(\"https://www.google.com/search?q=fruits&tbm=isch&source=hp&biw=1036&bih=520&ei=SdsyY8L-Fefl4-EPx6qg4AU&iflsig=AJiK0e8AAAAAYzLpWYYdmzVTNeb_sNaJLfSUoAqxsg_l&ved=0ahUKEwiCx7CU7LT6AhXn8jgGHUcVCFwQ4dUDCAc&uact=5&oq=fruits&gs_lcp=CgNpbWcQAzILCAAQgAQQsQMQgwEyCwgAEIAEELEDEIMBMgsIABCABBCxAxCDATIICAAQgAQQsQMyCwgAEIAEELEDEIMBMgsIABCABBCxAxCDATILCAAQgAQQsQMQgwEyCAgAEIAEELEDMgsIABCABBCxAxCDATILCAAQgAQQsQMQgwE6BQgAEIAEUABYuAhg5AloAHAAeACAAcQBiAHrBpIBAzAuNpgBAKABAaoBC2d3cy13aXotaW1n&sclient=img\")"
   ]
  },
  {
   "cell_type": "code",
   "execution_count": null,
   "id": "6f389551",
   "metadata": {},
   "outputs": [],
   "source": []
  },
  {
   "cell_type": "code",
   "execution_count": null,
   "id": "b39d6d17",
   "metadata": {},
   "outputs": [],
   "source": []
  },
  {
   "cell_type": "code",
   "execution_count": null,
   "id": "0a475030",
   "metadata": {},
   "outputs": [],
   "source": [
    "\n",
    "\n",
    "\n",
    "\n"
   ]
  },
  {
   "cell_type": "code",
   "execution_count": null,
   "id": "6728ddb4",
   "metadata": {},
   "outputs": [],
   "source": []
  },
  {
   "cell_type": "code",
   "execution_count": null,
   "id": "fd0393f7",
   "metadata": {},
   "outputs": [],
   "source": []
  },
  {
   "cell_type": "code",
   "execution_count": null,
   "id": "fc895b64",
   "metadata": {},
   "outputs": [],
   "source": [
    "\n"
   ]
  },
  {
   "cell_type": "code",
   "execution_count": null,
   "id": "11b51860",
   "metadata": {},
   "outputs": [],
   "source": []
  },
  {
   "cell_type": "code",
   "execution_count": null,
   "id": "bdaebf0c",
   "metadata": {},
   "outputs": [],
   "source": [
    "4. Write a python program to search for a smartphone(e.g.: Oneplus Nord, pixel 4A, etc.) on\n",
    "www.flipkart.com and scrape following details for all the search results displayed on 1st page. Details to be \n",
    "scraped: “Brand Name”, “Smartphone name”, “Colour”, “RAM”, “Storage(ROM)”, “Primary Camera”, \n",
    "“Secondary Camera”, “Display Size”, “Battery Capacity”, “Price”, “Product URL”. Incase if any of the \n",
    "details is missing then replace it by “- “. Save your results in a dataframe and CSV"
   ]
  },
  {
   "cell_type": "code",
   "execution_count": 2,
   "id": "f1836cf0",
   "metadata": {},
   "outputs": [],
   "source": [
    "driver=webdriver.Chrome(r\"C:\\Users\\user3\\Downloads\\chromedriver_win32\\chromedriver.exe\")"
   ]
  },
  {
   "cell_type": "code",
   "execution_count": 3,
   "id": "89cbb106",
   "metadata": {},
   "outputs": [],
   "source": [
    "driver.get(\"https://www.flipkart.com/\")"
   ]
  },
  {
   "cell_type": "code",
   "execution_count": 4,
   "id": "45c59c2a",
   "metadata": {},
   "outputs": [],
   "source": [
    "product=driver.find_element(By.CLASS_NAME,\"_3704LK\")\n",
    "product.send_keys('oneplusnord')"
   ]
  },
  {
   "cell_type": "code",
   "execution_count": 5,
   "id": "30cc7cf7",
   "metadata": {},
   "outputs": [],
   "source": [
    "search=driver.find_element(By.CLASS_NAME,\"_34RNph\")\n",
    "search.click()"
   ]
  },
  {
   "cell_type": "code",
   "execution_count": 42,
   "id": "6b2a06c4",
   "metadata": {},
   "outputs": [],
   "source": [
    "brands=[]\n",
    "Ram=[]\n",
    "Rom=[]\n",
    "primary_camera=[]\n",
    "Display_size=[]\n",
    "Battery=[]\n",
    "Price=[]"
   ]
  },
  {
   "cell_type": "code",
   "execution_count": 43,
   "id": "6f11f90f",
   "metadata": {},
   "outputs": [],
   "source": [
    "brand_tags=driver.find_elements(By.XPATH,'//div[@class=\"_4rR01T\"]')\n",
    "for i in brand_tags[0:7]:\n",
    "    brand=i.text\n",
    "    brands.append(brand)\n",
    "       \n",
    "\n",
    "ram_tags=driver.find_elements(By.XPATH,'//td[@class=\"URwL2w col col-9-12\"]')\n",
    "for i in ram_tags[0:7]:\n",
    "    ram=i.text\n",
    "    Ram.append(ram)    \n",
    "    \n",
    "    \n",
    "brand_tags=driver.find_elements(By.XPATH,'//li[@class=\"rgWa7D\"]')\n",
    "for i in brand_tags[0:7]:\n",
    "    brand=i.text\n",
    "    primary_camera.append(brand)   \n",
    "    \n",
    "\n",
    "    \n",
    "brand_tags=driver.find_elements(By.XPATH,'//li[@class=\"_21lJbe\"]')\n",
    "for i in brand_tags[0:7]:\n",
    "    brand=i.text\n",
    "    Display_size.append(brand)\n",
    "    \n",
    "brand_tags=driver.find_elements(By.XPATH,'//li[@class=\"_21Ahn-\"]')\n",
    "for i in brand_tags[0:7]:\n",
    "    brand=i.text\n",
    "    Battery.append(brand)\n",
    "    \n",
    "brand_tags=driver.find_elements(By.XPATH,'//div[@class=\"_30jeq3 _1_WHN1\"]')\n",
    "for i in brand_tags[0:7]:\n",
    "    brand=i.text\n",
    "    Price.append(brand)    \n"
   ]
  },
  {
   "cell_type": "code",
   "execution_count": 44,
   "id": "2ad766c3",
   "metadata": {},
   "outputs": [
    {
     "name": "stdout",
     "output_type": "stream",
     "text": [
      "7 7 7 0 0 7\n"
     ]
    }
   ],
   "source": [
    "print(len(brands),len(Ram_Rom),len(primary_camera),len(Display_size),len(Battery),len(Price))"
   ]
  },
  {
   "cell_type": "code",
   "execution_count": 45,
   "id": "17dd9f55",
   "metadata": {},
   "outputs": [
    {
     "data": {
      "text/html": [
       "<div>\n",
       "<style scoped>\n",
       "    .dataframe tbody tr th:only-of-type {\n",
       "        vertical-align: middle;\n",
       "    }\n",
       "\n",
       "    .dataframe tbody tr th {\n",
       "        vertical-align: top;\n",
       "    }\n",
       "\n",
       "    .dataframe thead th {\n",
       "        text-align: right;\n",
       "    }\n",
       "</style>\n",
       "<table border=\"1\" class=\"dataframe\">\n",
       "  <thead>\n",
       "    <tr style=\"text-align: right;\">\n",
       "      <th></th>\n",
       "      <th>brands</th>\n",
       "      <th>Ram</th>\n",
       "      <th>primary_camera</th>\n",
       "      <th>Price</th>\n",
       "    </tr>\n",
       "  </thead>\n",
       "  <tbody>\n",
       "    <tr>\n",
       "      <th>0</th>\n",
       "      <td>OnePlus Nord CE 2 Lite 5G (Black Dusk, 128 GB)</td>\n",
       "      <td>6 GB RAM | 128 GB ROM</td>\n",
       "      <td>6 GB RAM | 128 GB ROM</td>\n",
       "      <td>₹19,990</td>\n",
       "    </tr>\n",
       "    <tr>\n",
       "      <th>1</th>\n",
       "      <td>OnePlus Nord CE 2 Lite 5G (Blue Tide, 128 GB)</td>\n",
       "      <td>16.74 cm (6.59 inch) Display</td>\n",
       "      <td>16.74 cm (6.59 inch) Display</td>\n",
       "      <td>₹19,999</td>\n",
       "    </tr>\n",
       "    <tr>\n",
       "      <th>2</th>\n",
       "      <td>OnePlus Nord 2T 5G (Jade Fog, 256 GB)</td>\n",
       "      <td>64MP Rear Camera</td>\n",
       "      <td>64MP Rear Camera</td>\n",
       "      <td>₹33,867</td>\n",
       "    </tr>\n",
       "    <tr>\n",
       "      <th>3</th>\n",
       "      <td>OnePlus Nord 2T 5G (Jade Fog, 128 GB)</td>\n",
       "      <td>5000 mAh Battery</td>\n",
       "      <td>5000 mAh Battery</td>\n",
       "      <td>₹28,940</td>\n",
       "    </tr>\n",
       "    <tr>\n",
       "      <th>4</th>\n",
       "      <td>OnePlus Nord CE 5G (Charcoal Ink, 128 GB)</td>\n",
       "      <td>12 months</td>\n",
       "      <td>12 months</td>\n",
       "      <td>₹24,990</td>\n",
       "    </tr>\n",
       "    <tr>\n",
       "      <th>5</th>\n",
       "      <td>OnePlus Nord (Gray Onyx, 256 GB)</td>\n",
       "      <td>6 GB RAM | 128 GB ROM</td>\n",
       "      <td>6 GB RAM | 128 GB ROM</td>\n",
       "      <td>₹29,999</td>\n",
       "    </tr>\n",
       "    <tr>\n",
       "      <th>6</th>\n",
       "      <td>OnePlus Nord (Gray Onyx, 64 GB)</td>\n",
       "      <td>16.74 cm (6.59 inch) HD+ Display</td>\n",
       "      <td>16.74 cm (6.59 inch) HD+ Display</td>\n",
       "      <td>₹24,999</td>\n",
       "    </tr>\n",
       "  </tbody>\n",
       "</table>\n",
       "</div>"
      ],
      "text/plain": [
       "                                           brands  \\\n",
       "0  OnePlus Nord CE 2 Lite 5G (Black Dusk, 128 GB)   \n",
       "1   OnePlus Nord CE 2 Lite 5G (Blue Tide, 128 GB)   \n",
       "2           OnePlus Nord 2T 5G (Jade Fog, 256 GB)   \n",
       "3           OnePlus Nord 2T 5G (Jade Fog, 128 GB)   \n",
       "4       OnePlus Nord CE 5G (Charcoal Ink, 128 GB)   \n",
       "5                OnePlus Nord (Gray Onyx, 256 GB)   \n",
       "6                 OnePlus Nord (Gray Onyx, 64 GB)   \n",
       "\n",
       "                                Ram                    primary_camera    Price  \n",
       "0             6 GB RAM | 128 GB ROM             6 GB RAM | 128 GB ROM  ₹19,990  \n",
       "1      16.74 cm (6.59 inch) Display      16.74 cm (6.59 inch) Display  ₹19,999  \n",
       "2                  64MP Rear Camera                  64MP Rear Camera  ₹33,867  \n",
       "3                  5000 mAh Battery                  5000 mAh Battery  ₹28,940  \n",
       "4                         12 months                         12 months  ₹24,990  \n",
       "5             6 GB RAM | 128 GB ROM             6 GB RAM | 128 GB ROM  ₹29,999  \n",
       "6  16.74 cm (6.59 inch) HD+ Display  16.74 cm (6.59 inch) HD+ Display  ₹24,999  "
      ]
     },
     "execution_count": 45,
     "metadata": {},
     "output_type": "execute_result"
    }
   ],
   "source": [
    "df=pd.DataFrame({'brands':brands,'Ram':Ram_Rom,'primary_camera':primary_camera,'Price':Price})\n",
    "df"
   ]
  },
  {
   "cell_type": "markdown",
   "id": "73b01f98",
   "metadata": {},
   "source": [
    " 5.Write a program to scrap geospatial coordinates (latitude, longitude) of a city searched on google\n",
    "maps."
   ]
  },
  {
   "cell_type": "code",
   "execution_count": 2,
   "id": "12bf4a8a",
   "metadata": {},
   "outputs": [],
   "source": []
  },
  {
   "cell_type": "code",
   "execution_count": 3,
   "id": "04281c98",
   "metadata": {},
   "outputs": [],
   "source": [
    "driver.get(\"https://www.google.com/maps\")\n"
   ]
  },
  {
   "cell_type": "code",
   "execution_count": 4,
   "id": "b28daa33",
   "metadata": {},
   "outputs": [],
   "source": [
    "from time import sleep"
   ]
  },
  {
   "cell_type": "code",
   "execution_count": 5,
   "id": "d1dee58a",
   "metadata": {},
   "outputs": [],
   "source": [
    "import os"
   ]
  },
  {
   "cell_type": "code",
   "execution_count": 9,
   "id": "db434385",
   "metadata": {},
   "outputs": [
    {
     "name": "stdout",
     "output_type": "stream",
     "text": [
      "Collecting geopy\n",
      "  Downloading geopy-2.2.0-py3-none-any.whl (118 kB)\n",
      "Collecting geographiclib<2,>=1.49\n",
      "  Downloading geographiclib-1.52-py3-none-any.whl (38 kB)\n",
      "Installing collected packages: geographiclib, geopy\n",
      "Successfully installed geographiclib-1.52 geopy-2.2.0\n",
      "Note: you may need to restart the kernel to use updated packages.\n"
     ]
    }
   ],
   "source": [
    "pip install geopy"
   ]
  },
  {
   "cell_type": "code",
   "execution_count": 10,
   "id": "eb3695c2",
   "metadata": {},
   "outputs": [],
   "source": [
    "from geopy.geocoders import ArcGIS\n"
   ]
  },
  {
   "cell_type": "code",
   "execution_count": 11,
   "id": "9e80ebb0",
   "metadata": {},
   "outputs": [],
   "source": [
    "#geopy library and arcgis for visualization"
   ]
  },
  {
   "cell_type": "code",
   "execution_count": 14,
   "id": "ad0262c3",
   "metadata": {},
   "outputs": [],
   "source": [
    "# create object\n",
    "nom=ArcGIS()\n"
   ]
  },
  {
   "cell_type": "code",
   "execution_count": 15,
   "id": "cb784c7e",
   "metadata": {},
   "outputs": [
    {
     "data": {
      "text/plain": [
       "Location(Pudupattinam, Thanjavur, Tamil Nadu, (10.766150000000039, 79.16575000000006, 0.0))"
      ]
     },
     "execution_count": 15,
     "metadata": {},
     "output_type": "execute_result"
    }
   ],
   "source": [
    "#now lets with location\n",
    "nom.geocode('kalpakkam')"
   ]
  },
  {
   "cell_type": "markdown",
   "id": "a92eebfd",
   "metadata": {},
   "source": [
    "6. Write a program to scrap details of all the funding deals for second quarter (i.e Jan 21 – March 21) \n",
    "from trak.in"
   ]
  },
  {
   "cell_type": "code",
   "execution_count": 16,
   "id": "e51e4a1b",
   "metadata": {},
   "outputs": [],
   "source": [
    "driver=webdriver.Chrome(r\"C:\\Users\\user3\\Downloads\\chromedriver_win32\\chromedriver.exe\")"
   ]
  },
  {
   "cell_type": "code",
   "execution_count": 17,
   "id": "4fc87756",
   "metadata": {},
   "outputs": [],
   "source": [
    "driver.get(\"https://trak.in/india-startup-funding-investment-2015/\")"
   ]
  },
  {
   "cell_type": "code",
   "execution_count": 71,
   "id": "6fc3683e",
   "metadata": {},
   "outputs": [],
   "source": [
    "date=[]\n",
    "names=[]\n",
    "industry=[]\n",
    "subvertical=[]\n",
    "location=[]\n",
    "investors=[]"
   ]
  },
  {
   "cell_type": "code",
   "execution_count": null,
   "id": "6f6e5a22",
   "metadata": {},
   "outputs": [],
   "source": [
    "    "
   ]
  },
  {
   "cell_type": "code",
   "execution_count": null,
   "id": "5469c078",
   "metadata": {},
   "outputs": [],
   "source": []
  },
  {
   "cell_type": "code",
   "execution_count": 72,
   "id": "90e574ad",
   "metadata": {},
   "outputs": [],
   "source": [
    "name_tags=driver.find_elements(By.XPATH,'//td[@class=\"column-3\"]')\n",
    "for i in name_tags[0:7]:\n",
    "    name=i.text\n",
    "    names.append(name) \n",
    "    \n",
    "dat_tags=driver.find_elements(By.XPATH,'//td[@class=\"column-2\"]')\n",
    "for i in dat_tags[0:8]:\n",
    "    dat=i.text\n",
    "    date.append(dat)\n",
    "\n",
    "industries_tags=driver.find_elements(By.XPATH,'//td[@class=\"column-4\"]')\n",
    "for i in industries_tags[0:8]:\n",
    "    industries=i.text\n",
    "    industry.append(industries) \n",
    "    \n",
    "sub_tags=driver.find_elements(By.XPATH,'//td[@class=\"column-5\"]')\n",
    "for i in sub_tags[0:8]:\n",
    "    sub=i.text\n",
    "    subvertical.append(sub)\n",
    "    \n",
    "loc_tags=driver.find_elements(By.XPATH,'//td[@class=\"column-6\"]')\n",
    "for i in loc_tags[0:8]:\n",
    "    loc=i.text\n",
    "    location.append(loc)\n",
    "    \n",
    "invest_tags=driver.find_elements(By.XPATH,'//td[@cclass=\"column-7\"]')\n",
    "for i in invest_tags[0:8]:\n",
    "    invest=i.text\n",
    "    investors.append(invest)    "
   ]
  },
  {
   "cell_type": "code",
   "execution_count": 73,
   "id": "aa8feaa9",
   "metadata": {},
   "outputs": [
    {
     "name": "stdout",
     "output_type": "stream",
     "text": [
      "8 8 8 8 8\n"
     ]
    }
   ],
   "source": [
    "print(len(industry),len(date),len(subvertical),len(location),len(name))"
   ]
  },
  {
   "cell_type": "code",
   "execution_count": 83,
   "id": "f6cc48c2",
   "metadata": {},
   "outputs": [
    {
     "data": {
      "text/html": [
       "<div>\n",
       "<style scoped>\n",
       "    .dataframe tbody tr th:only-of-type {\n",
       "        vertical-align: middle;\n",
       "    }\n",
       "\n",
       "    .dataframe tbody tr th {\n",
       "        vertical-align: top;\n",
       "    }\n",
       "\n",
       "    .dataframe thead th {\n",
       "        text-align: right;\n",
       "    }\n",
       "</style>\n",
       "<table border=\"1\" class=\"dataframe\">\n",
       "  <thead>\n",
       "    <tr style=\"text-align: right;\">\n",
       "      <th></th>\n",
       "      <th>date</th>\n",
       "      <th>industry</th>\n",
       "      <th>subvertical</th>\n",
       "      <th>location</th>\n",
       "    </tr>\n",
       "  </thead>\n",
       "  <tbody>\n",
       "    <tr>\n",
       "      <th>0</th>\n",
       "      <td>01/04/2021</td>\n",
       "      <td>Edu-tech</td>\n",
       "      <td>Online tutoring</td>\n",
       "      <td>Bengaluru</td>\n",
       "    </tr>\n",
       "    <tr>\n",
       "      <th>1</th>\n",
       "      <td>05/04/2021</td>\n",
       "      <td>E-commerce</td>\n",
       "      <td>Online reselling platform</td>\n",
       "      <td>Bengaluru</td>\n",
       "    </tr>\n",
       "    <tr>\n",
       "      <th>2</th>\n",
       "      <td>14/04/2021</td>\n",
       "      <td>Online Food Delivery</td>\n",
       "      <td>Online Food Delivery</td>\n",
       "      <td>Bengaluru</td>\n",
       "    </tr>\n",
       "    <tr>\n",
       "      <th>3</th>\n",
       "      <td>07/04/2021</td>\n",
       "      <td>FinTech</td>\n",
       "      <td>Investment platform</td>\n",
       "      <td>Bengaluru</td>\n",
       "    </tr>\n",
       "    <tr>\n",
       "      <th>4</th>\n",
       "      <td>14/04/2021</td>\n",
       "      <td>E-commerce</td>\n",
       "      <td>Global B2B marketplace</td>\n",
       "      <td>Mumbai</td>\n",
       "    </tr>\n",
       "    <tr>\n",
       "      <th>5</th>\n",
       "      <td>04/03/2021</td>\n",
       "      <td>E-commerce</td>\n",
       "      <td>Online shopping platform</td>\n",
       "      <td>Jaipur, Rajasthan</td>\n",
       "    </tr>\n",
       "    <tr>\n",
       "      <th>6</th>\n",
       "      <td>31/03/2021</td>\n",
       "      <td>Technology</td>\n",
       "      <td>Conversational Service Automation (CSA)</td>\n",
       "      <td>Palo Alto</td>\n",
       "    </tr>\n",
       "    <tr>\n",
       "      <th>7</th>\n",
       "      <td>30/03/2021</td>\n",
       "      <td>E-commerce</td>\n",
       "      <td>Hyper-local delivery app</td>\n",
       "      <td>Bengaluru</td>\n",
       "    </tr>\n",
       "  </tbody>\n",
       "</table>\n",
       "</div>"
      ],
      "text/plain": [
       "         date              industry                              subvertical  \\\n",
       "0  01/04/2021              Edu-tech                          Online tutoring   \n",
       "1  05/04/2021            E-commerce                Online reselling platform   \n",
       "2  14/04/2021  Online Food Delivery                     Online Food Delivery   \n",
       "3  07/04/2021               FinTech                      Investment platform   \n",
       "4  14/04/2021            E-commerce                   Global B2B marketplace   \n",
       "5  04/03/2021            E-commerce                 Online shopping platform   \n",
       "6  31/03/2021            Technology  Conversational Service Automation (CSA)   \n",
       "7  30/03/2021            E-commerce                 Hyper-local delivery app   \n",
       "\n",
       "            location  \n",
       "0          Bengaluru  \n",
       "1          Bengaluru  \n",
       "2          Bengaluru  \n",
       "3          Bengaluru  \n",
       "4             Mumbai  \n",
       "5  Jaipur, Rajasthan  \n",
       "6          Palo Alto  \n",
       "7          Bengaluru  "
      ]
     },
     "execution_count": 83,
     "metadata": {},
     "output_type": "execute_result"
    }
   ],
   "source": [
    "df=pd.DataFrame({'date':date,'industry':industry,'subvertical':subvertical,'location':location})\n",
    "df"
   ]
  },
  {
   "cell_type": "code",
   "execution_count": null,
   "id": "38692643",
   "metadata": {},
   "outputs": [],
   "source": []
  }
 ],
 "metadata": {
  "kernelspec": {
   "display_name": "Python 3 (ipykernel)",
   "language": "python",
   "name": "python3"
  },
  "language_info": {
   "codemirror_mode": {
    "name": "ipython",
    "version": 3
   },
   "file_extension": ".py",
   "mimetype": "text/x-python",
   "name": "python",
   "nbconvert_exporter": "python",
   "pygments_lexer": "ipython3",
   "version": "3.9.7"
  }
 },
 "nbformat": 4,
 "nbformat_minor": 5
}
